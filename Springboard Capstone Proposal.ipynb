{
 "cells": [
  {
   "cell_type": "markdown",
   "metadata": {},
   "source": [
    "### Springboard Capstone Project Proposals\n",
    "\n",
    "#### Datasets of interest:\n",
    "\n",
    "1. From data.world, crunchbase monthly information on Venture transactions (founding, funding, acquisition, IPO)\n",
    "    Funding events from 1986 to 2015: 50,000 rows of data\n",
    "2. Kauffman Index of Entrepreneurial Activity (composition of entrepreneurial community by race, background, etc)\n",
    "    Summarized data from 1980 to 2016\n",
    "3. Broad market or economic indicies might support some of the conclusions drawn in #2 below.\n",
    "\n",
    "#### Questions of interest (first pass):\n",
    "\n",
    "1. What does the path from founding to exit look like in the real world: what are the odds of that a startup proceeds to the next stage of funding?  Are there any shared characteristics (time between funding rounds, geography, line of business) that improve the odds of success?\n",
    "\n",
    "2. How does the (aggregate amount of) money flowing into young companies change over time, are there any conclusions to be drawn from the broader economy, market returns, currency values?\n",
    "\n",
    "3. We've all heard about (and revere) unicorns, but are there lesser-known examples of companies that were wild successes (founders and investors made lots of money) that might illustrate alternate paths to success for entrepreneurs. \n",
    "\n",
    "#### Intended Audience & Use Case:\n",
    "\n",
    "1. For Angel Investors:\n",
    "    a) to better understand how their portfolio of investments is likely to proceed through valuation ladder\n",
    "    b) where the best pockets of opportunity truly lie, relative to what is generally understood to be true\n",
    "    c) what external factors to beware of in the broader economy, that may affect valuations or subsequent funding\n",
    "\n",
    "2. For Founders:\n",
    "    a) understand the true cost of funding (when serial fundraising is not the right decision)\n",
    "    b) when is smaller == better?\n",
    "    c) proper understanding of time-effort-outcome equation.  What are the real risks in heading down this path.\n",
    "\n",
    "#### Next Steps:\n",
    "\n",
    "1. Load csv file into Pandas dataframe.EDA to begin with the crunchbase data set; find some aggregates, time series, and a few individual examples that are interesting.  \n",
    "\n",
    "2. \n"
   ]
  },
  {
   "cell_type": "code",
   "execution_count": null,
   "metadata": {
    "collapsed": true
   },
   "outputs": [],
   "source": []
  }
 ],
 "metadata": {
  "anaconda-cloud": {},
  "kernelspec": {
   "display_name": "Python [default]",
   "language": "python",
   "name": "python3"
  },
  "language_info": {
   "codemirror_mode": {
    "name": "ipython",
    "version": 3
   },
   "file_extension": ".py",
   "mimetype": "text/x-python",
   "name": "python",
   "nbconvert_exporter": "python",
   "pygments_lexer": "ipython3",
   "version": "3.5.2"
  }
 },
 "nbformat": 4,
 "nbformat_minor": 1
}
